{
 "cells": [
  {
   "cell_type": "markdown",
   "metadata": {},
   "source": [
    "# Google-Image-Downloader\n",
    "\n",
    "This notebook will prompt the user for the search term and the number of images to be downloaded. Images are downloaded in a new folder with the name of search term created in the current directory.\n",
    "\n"
   ]
  },
  {
   "cell_type": "code",
   "execution_count": 2,
   "metadata": {
    "collapsed": false
   },
   "outputs": [
    {
     "name": "stdout",
     "output_type": "stream",
     "text": [
      "Enter the search term\n",
      "python\n",
      "Enter the no of images you want to download\n",
      "2\n"
     ]
    }
   ],
   "source": [
    "#Python 3 implementation\n",
    "\n",
    "import bs4\n",
    "import requests\n",
    "import os\n",
    "import shutil\n",
    "from bs4 import BeautifulSoup\n",
    "import warnings\n",
    "warnings.filterwarnings('ignore')\n",
    "\n",
    "url = \"https://www.google.com/search?tbm=isch&q=\"\n",
    "\n",
    "#Specify The search term \n",
    "print(\"Enter the search term\")\n",
    "search_term = input()\n",
    "\n",
    "#Specify the count of images to download\n",
    "print(\"Enter the no of images you want to download\")\n",
    "\n",
    "no_of_images = int(input())\n",
    "\n",
    "#Create a directory where the images will be be stored.\n",
    "current_dir = os.getcwd()\n",
    "newdir = current_dir + '\\\\' + search_term\n",
    "\n",
    "#Check if directory already exists\n",
    "\n",
    "if(os.path.exists(newdir)):\n",
    "    shutil.rmtree(newdir)\n",
    "else:\n",
    "    os.makedirs(search_term,exist_ok = True)\n",
    "    \n",
    "#Add the search term to the URL\n",
    "final_url = url + search_term\n",
    "\n",
    "\n",
    "response = requests.get(final_url)\n",
    "soup = BeautifulSoup(response.content)\n",
    "\n",
    "images = soup.findAll('img')\n",
    "images\n",
    "\n",
    "#Iterate over the images\n",
    "\n",
    "count_img = 0\n",
    "for img in images[0:no_of_images]:\n",
    "    src = img.get('src')\n",
    "    \n",
    "    image_response = requests.get(src)\n",
    "    image_response.raise_for_status\n",
    "    \n",
    "    image_file = open(os.getcwd() + '\\\\' + search_term + '\\\\' + str(count_img), 'wb')\n",
    "    for chunk in image_response.iter_content(100000):\n",
    "        image_file.write(chunk)\n",
    "    count_img+=1  \n",
    "\n",
    "    \n"
   ]
  },
  {
   "cell_type": "code",
   "execution_count": null,
   "metadata": {
    "collapsed": true
   },
   "outputs": [],
   "source": []
  }
 ],
 "metadata": {
  "anaconda-cloud": {},
  "kernelspec": {
   "display_name": "Python [Root]",
   "language": "python",
   "name": "Python [Root]"
  },
  "language_info": {
   "codemirror_mode": {
    "name": "ipython",
    "version": 3
   },
   "file_extension": ".py",
   "mimetype": "text/x-python",
   "name": "python",
   "nbconvert_exporter": "python",
   "pygments_lexer": "ipython3",
   "version": "3.5.2"
  }
 },
 "nbformat": 4,
 "nbformat_minor": 0
}
