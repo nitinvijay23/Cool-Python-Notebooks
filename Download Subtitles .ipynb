{
 "cells": [
  {
   "cell_type": "markdown",
   "metadata": {},
   "source": [
    "# Download Subtitles\n",
    "\n",
    "This notebook allows one to download the subtitles of the movie from the site http://www.subscene.co.in\n",
    "\n",
    "You need to enter the name of the movie and the year of release.\n",
    "\n",
    "#Note: Make sure the name and year of release is correct."
   ]
  },
  {
   "cell_type": "code",
   "execution_count": null,
   "metadata": {
    "collapsed": false
   },
   "outputs": [],
   "source": [
    "# Download subtitles from the site subscene\n",
    "\n",
    "# Enter the name of the movie and the year of release\n",
    "\n",
    "\n",
    "from zipfile import ZipFile\n",
    "import io\n",
    "import requests\n",
    "\n",
    "\n",
    "name = input()\n",
    "year_of_release = input()\n",
    "\n",
    "name = name.lower()\n",
    "\n",
    "final_name = name + '-' + year_of_release\n",
    "\n",
    "url = 'http://cdn.subscene.co.in/movies/'\n",
    "\n",
    "\n",
    "final_name = final_name.replace(' ', '-')\n",
    "#final_ur\n",
    "final_name\n",
    "\n",
    "final_url = url + final_name + '.zip'\n",
    "\n",
    "\n",
    "\n",
    "r = requests.get(final_url) # Request for downloading\n",
    "\n",
    "z = ZipFile(io.BytesIO(r.content)) # Opening zip file\n",
    "\n",
    "z.extractall() # extracting zip file"
   ]
  },
  {
   "cell_type": "code",
   "execution_count": null,
   "metadata": {
    "collapsed": true
   },
   "outputs": [],
   "source": []
  }
 ],
 "metadata": {
  "kernelspec": {
   "display_name": "Python [Root]",
   "language": "python",
   "name": "Python [Root]"
  },
  "language_info": {
   "codemirror_mode": {
    "name": "ipython",
    "version": 3
   },
   "file_extension": ".py",
   "mimetype": "text/x-python",
   "name": "python",
   "nbconvert_exporter": "python",
   "pygments_lexer": "ipython3",
   "version": "3.5.2"
  }
 },
 "nbformat": 4,
 "nbformat_minor": 0
}
