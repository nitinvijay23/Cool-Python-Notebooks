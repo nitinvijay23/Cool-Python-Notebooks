{
 "cells": [
  {
   "cell_type": "markdown",
   "metadata": {},
   "source": [
    "# Youtube Video Downloader \n",
    "\n",
    "How to use this notebook?\n",
    "\n",
    "1. Enter the Url of the video you want to download. List of options to chose the download type will be provided.\n",
    "2. Chose the option and the video will be downloaded automatically.\n",
    "\n",
    "Wait for sometime, a video with larger size may take time depending on the internet connectivity."
   ]
  },
  {
   "cell_type": "code",
   "execution_count": 3,
   "metadata": {
    "collapsed": false
   },
   "outputs": [
    {
     "name": "stdout",
     "output_type": "stream",
     "text": [
      "Enter the youtube video URL\n",
      "Option 1 format mp4 Resolution 1280x720\n",
      "Option 2 format webm Resolution 640x360\n",
      "Option 3 format mp4 Resolution 640x360\n",
      "Option 4 format 3gp Resolution 320x240\n",
      "Option 5 format 3gp Resolution 176x144\n",
      "Chose the Option number to select the format and resolution from the list of streams\n",
      "5\n"
     ]
    }
   ],
   "source": [
    "# Youtube Video Downloader \n",
    "import pafy\n",
    "\n",
    "print(\"Enter the youtube video URL\")\n",
    "#url = input()\n",
    "\n",
    "url = \"https://www.youtube.com/watch?v=bMt47wvK6u0\"\n",
    "\n",
    "video = pafy.new(url)\n",
    "video\n",
    "\n",
    "streams = video.streams\n",
    "counter = 1\n",
    "for s in streams:\n",
    "    print(\"Option {} format {} Resolution {}\".format(counter, s.extension,s.resolution))\n",
    "    counter+=1\n",
    "    \n",
    "print(\"Chose the Option number to select the format and resolution from the list of streams\")\n",
    "\n",
    "option = int(input())\n",
    "filename = streams[option-1]\n",
    "filename = filename.download(quiet = False)"
   ]
  },
  {
   "cell_type": "code",
   "execution_count": null,
   "metadata": {
    "collapsed": false
   },
   "outputs": [],
   "source": []
  },
  {
   "cell_type": "code",
   "execution_count": null,
   "metadata": {
    "collapsed": true
   },
   "outputs": [],
   "source": []
  }
 ],
 "metadata": {
  "kernelspec": {
   "display_name": "Python [Root]",
   "language": "python",
   "name": "Python [Root]"
  },
  "language_info": {
   "codemirror_mode": {
    "name": "ipython",
    "version": 3
   },
   "file_extension": ".py",
   "mimetype": "text/x-python",
   "name": "python",
   "nbconvert_exporter": "python",
   "pygments_lexer": "ipython3",
   "version": "3.5.2"
  }
 },
 "nbformat": 4,
 "nbformat_minor": 0
}
