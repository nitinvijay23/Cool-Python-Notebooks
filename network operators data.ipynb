{
 "cells": [
  {
   "cell_type": "markdown",
   "metadata": {},
   "source": [
    "# Network Operators Data\n",
    "\n",
    "This notebook will scrape the website http://mobikwik.com/ and create a csv file listing all the operators, states and plans offered in each state.\n",
    "\n",
    "**Note: The data generated is not for commercial purpose. It is being generated just for learning purpose. Check the mobikwik site legal agreement before using this for any commercial purpose.\n"
   ]
  },
  {
   "cell_type": "code",
   "execution_count": null,
   "metadata": {
    "collapsed": false
   },
   "outputs": [],
   "source": [
    "# Create a webdriver using selenium to automate browser actions such as click.\n",
    "\n",
    "import requests\n",
    "from bs4 import BeautifulSoup\n",
    "import os\n",
    "from selenium import webdriver\n",
    "driver = webdriver.Chrome()\n",
    "url='https://www.mobikwik.com/'\n",
    "driver.get(url)\n",
    "el = driver.find_element_by_css_selector(\".check-plans.ng-scope\") \n",
    "el.click() #Click on browse plans on home page\n"
   ]
  },
  {
   "cell_type": "code",
   "execution_count": null,
   "metadata": {
    "collapsed": false
   },
   "outputs": [],
   "source": [
    "# Fetch the html\n",
    "html = driver.page_source\n",
    "\n",
    "# Create a parser using beautifulSoup library\n",
    "soup = BeautifulSoup(html)\n"
   ]
  },
  {
   "cell_type": "code",
   "execution_count": null,
   "metadata": {
    "collapsed": false
   },
   "outputs": [],
   "source": [
    "# Fetch the required element\n",
    "\n",
    "browse_plans = soup.findAll('dl', class_ = ' extraDefault customDropDown')\n",
    "operators = browse_plans[0].findAll('li')\n",
    "operator_list = [] #List of operators\n",
    "for o in operators:\n",
    "    operator_list.append(o.span.text)\n",
    "\n",
    "del operator_list[0]\n",
    "\n",
    "\n",
    "state_list = browse_plans[2].findAll('li')\n",
    "states = [] #List of states\n",
    "for s in state_list:\n",
    "    states.append(s.span.text)\n",
    "    \n",
    "plans_types = browse_plans[3].findAll('li')\n",
    "plan_types = [] #List of all the plans\n",
    "for pt in plans_types:\n",
    "    plan_types.append(pt.span.text)"
   ]
  },
  {
   "cell_type": "code",
   "execution_count": null,
   "metadata": {
    "collapsed": false
   },
   "outputs": [],
   "source": [
    "# Create a csv file with the header\n",
    "\n",
    "import csv\n",
    "import re\n",
    "csvfile = open('network_operators.csv', 'w', newline='')\n",
    "writer = csv.writer(csvfile)\n",
    "writer.writerow(['Operator'] + ['Circle'] + ['Plan'] + ['Denomination'] + ['Description'] + ['Validity'] + ['Talktime'])"
   ]
  },
  {
   "cell_type": "code",
   "execution_count": null,
   "metadata": {
    "collapsed": false
   },
   "outputs": [],
   "source": [
    "#Iterate over all the operators, states and plans.\n",
    "# Click on each dropdown menu\n",
    "#Fetch the source html\n",
    "#Parse the html\n",
    "#Write the data in csv file\n",
    "for op in operator_list:\n",
    "    for state in states:\n",
    "        for plan in plan_types:\n",
    "            arrow = driver.find_element_by_xpath('/html/body/div[3]/div[3]/section/div/div[1]/dl[1][@class=\" extraDefault customDropDown\" and @selected-value=\"view.operator\"]')\n",
    "            arrow.click()\n",
    "            driver.find_element_by_xpath(\"/html/body/div[3]/div[3]/section/div/div[1]/dl[1]/dd/ul/li/span[contains(text(), '\"+op+\"')]\").click()\n",
    "            arrow = driver.find_element_by_xpath('/html/body/div[3]/div[3]/section/div/div[1]/dl[3][@class=\" extraDefault customDropDown\" and @selected-value=\"view.circle\"]')\n",
    "            arrow.click()\n",
    "            driver.find_element_by_xpath(\"/html/body/div[3]/div[3]/section/div/div[1]/dl[3]/dd/ul/li/span[contains(text(), '\"+state+\"')]\").click()\n",
    "            arrow = driver.find_element_by_xpath('/html/body/div[3]/div[3]/section/div/div[1]/dl[4][@class=\" extraDefault customDropDown\" and @selected-value=\"view.planType\"]')\n",
    "            arrow.click()\n",
    "            driver.find_element_by_xpath(\"/html/body/div[3]/div[3]/section/div/div[1]/dl[4]/dd/ul/li/span[contains(text(), '\"+plan+\"')]\").click()\n",
    "            html = driver.page_source\n",
    "            soup = BeautifulSoup(html)\n",
    "            allplans = soup.findAll('div', class_ = 'wrpr')\n",
    "            allplan_amount = soup.find_all(attrs={\"data-ng-repeat\": \"plan in plans | orderBy:'amount'\"})\n",
    "            if(len(allplan_amount) >=1):\n",
    "                denomination = allplan_amount[0].span.text\n",
    "                denomination = re.findall(r'\\d+', denomination)[0]\n",
    "                validity = allplan_amount[0].i.text\n",
    "                description = allplan_amount[0].find(attrs={\"data-ng-bind\": \"plan.planDescription\"}).text\n",
    "                talktime = allplan_amount[0].em.text.replace(\"₹ \", \"\")\n",
    "                talktime = re.findall(r'\\d+', talktime)[0]\n",
    "                writer.writerow([op, state, plan, denomination, description, validity, talktime])\n",
    "            else:\n",
    "                writer.writerow([op, state, plan, 'nil', 'nil', 'nil', 'nil'])"
   ]
  },
  {
   "cell_type": "code",
   "execution_count": null,
   "metadata": {
    "collapsed": false
   },
   "outputs": [],
   "source": [
    "driver.close # Close the driver\n",
    "csvfile.close() # Close the file"
   ]
  },
  {
   "cell_type": "code",
   "execution_count": null,
   "metadata": {
    "collapsed": true
   },
   "outputs": [],
   "source": []
  }
 ],
 "metadata": {
  "anaconda-cloud": {},
  "kernelspec": {
   "display_name": "Python [Root]",
   "language": "python",
   "name": "Python [Root]"
  },
  "language_info": {
   "codemirror_mode": {
    "name": "ipython",
    "version": 3
   },
   "file_extension": ".py",
   "mimetype": "text/x-python",
   "name": "python",
   "nbconvert_exporter": "python",
   "pygments_lexer": "ipython3",
   "version": "3.5.2"
  }
 },
 "nbformat": 4,
 "nbformat_minor": 0
}
