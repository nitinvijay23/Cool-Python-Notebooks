{
 "cells": [
  {
   "cell_type": "markdown",
   "metadata": {},
   "source": [
    "# Download 20 webcomics from XKCD and create a pdf file of all the images\n",
    "\n",
    "We can extend this to downloading all the webcomics"
   ]
  },
  {
   "cell_type": "code",
   "execution_count": 1,
   "metadata": {
    "collapsed": false
   },
   "outputs": [
    {
     "name": "stdout",
     "output_type": "stream",
     "text": [
      "Downloading https://imgs.xkcd.com/comics/focus_knob.png\n",
      "Downloading https://imgs.xkcd.com/comics/all_you_can_eat.png\n",
      "Downloading https://imgs.xkcd.com/comics/fire.png\n",
      "Downloading https://imgs.xkcd.com/comics/soda_sugar_comparisons.png\n",
      "Downloading https://imgs.xkcd.com/comics/bird_plane_superman.png\n",
      "Downloading https://imgs.xkcd.com/comics/telescopes_refractor_vs_reflector.png\n",
      "Downloading https://imgs.xkcd.com/comics/sad.png\n",
      "Downloading https://imgs.xkcd.com/comics/phone_numbers.png\n",
      "Downloading https://imgs.xkcd.com/comics/barge.png\n",
      "Downloading https://imgs.xkcd.com/comics/voice_commands.png\n",
      "Downloading https://imgs.xkcd.com/comics/trash.png\n",
      "Downloading https://imgs.xkcd.com/comics/wifi.png\n",
      "Downloading https://imgs.xkcd.com/comics/bad_map_projection_liquid_resize.png\n",
      "Downloading https://imgs.xkcd.com/comics/emails.png\n",
      "Downloading https://imgs.xkcd.com/comics/team_chat.png\n",
      "Downloading https://imgs.xkcd.com/comics/artifacts.png\n",
      "Downloading https://imgs.xkcd.com/comics/appliance_repair.png\n",
      "Downloading https://imgs.xkcd.com/comics/2017.png\n",
      "Downloading https://imgs.xkcd.com/comics/interest_timescales.png\n",
      "Downloading https://imgs.xkcd.com/comics/dear_diary.png\n"
     ]
    }
   ],
   "source": [
    "import os\n",
    "import sys\n",
    "from bs4 import BeautifulSoup\n",
    "import requests\n",
    "import shutil\n",
    "\n",
    "import warnings\n",
    "warnings.filterwarnings('ignore')\n",
    "\n",
    "url = 'https://xkcd.com/'\n",
    "\n",
    "destination_name = 'XKCD Web Comics'\n",
    "current_directory = os.getcwd()\n",
    "\n",
    "destination_dir = current_directory + '\\\\' + destination_name\n",
    "\n",
    "if(os.path.exists(destination_dir)):\n",
    "    shutil.rmtree(destination_dir)\n",
    "os.makedirs(destination_name,exist_ok = True)\n",
    "\n",
    "\n",
    "response = requests.get(url)\n",
    "\n",
    "if(~response.status_code == 200):\n",
    "    print(\"Page you are trying to load is giving the error number {}\".format(response.status_code))\n",
    "\n",
    "soup = BeautifulSoup(response.content)\n",
    "\n",
    "#Look for the image tag\n",
    "\n",
    "prev_url = url\n",
    "counter = 1\n",
    "\n",
    "#List of images\n",
    "\n",
    "\n",
    "while(prev_url != '#' and counter <= 20):\n",
    "    \n",
    "    response = requests.get(prev_url)\n",
    "\n",
    "    if(~response.status_code == 200):\n",
    "        print(\"Page you are trying to load is giving the error number {}\".format(response.status_code))\n",
    "\n",
    "    soup = BeautifulSoup(response.content)\n",
    "    image = soup.select('#comic img')\n",
    "    url = 'https:' + image[0].get('src')\n",
    "    print('Downloading {}'.format(url))\n",
    "\n",
    "    image_response = requests.get(url)\n",
    "\n",
    "    image_file = open(destination_dir + '\\\\' + 'xkcd_{}'.format(counter) + '.jpg', 'wb')\n",
    "    \n",
    "    for chunk in image_response.iter_content(100000):\n",
    "        image_file.write(chunk)\n",
    "    prevLink = soup.select('a[rel=\"prev\"]')[0]\n",
    "\n",
    "    prevLink = soup.select('a[rel=\"prev\"]')[0]\n",
    "    prev_url = 'http://xkcd.com' + prevLink.get('href')\n",
    "    \n",
    "    counter+=1\n",
    "    \n",
    "\n"
   ]
  },
  {
   "cell_type": "code",
   "execution_count": 2,
   "metadata": {
    "collapsed": false
   },
   "outputs": [
    {
     "data": {
      "text/plain": [
       "935783"
      ]
     },
     "execution_count": 2,
     "metadata": {},
     "output_type": "execute_result"
    }
   ],
   "source": [
    "# Create a pdf file of all the images\n",
    "import os\n",
    "import img2pdf\n",
    "imglist = []\n",
    "os.chdir(destination_dir)\n",
    "for filename in os.listdir(destination_dir):\n",
    "    #print(filename)\n",
    "    f = open(filename, 'rb')\n",
    "    imglist.append(f)\n",
    "mypdf = img2pdf.convert(imglist)\n",
    "\n",
    "file = open(\"name.pdf\",\"wb\")\n",
    "file.write(mypdf)"
   ]
  },
  {
   "cell_type": "code",
   "execution_count": 4,
   "metadata": {
    "collapsed": false
   },
   "outputs": [
    {
     "data": {
      "text/plain": [
       "14574"
      ]
     },
     "execution_count": 4,
     "metadata": {},
     "output_type": "execute_result"
    }
   ],
   "source": []
  },
  {
   "cell_type": "code",
   "execution_count": null,
   "metadata": {
    "collapsed": true
   },
   "outputs": [],
   "source": []
  }
 ],
 "metadata": {
  "anaconda-cloud": {},
  "kernelspec": {
   "display_name": "Python [Root]",
   "language": "python",
   "name": "Python [Root]"
  },
  "language_info": {
   "codemirror_mode": {
    "name": "ipython",
    "version": 3
   },
   "file_extension": ".py",
   "mimetype": "text/x-python",
   "name": "python",
   "nbconvert_exporter": "python",
   "pygments_lexer": "ipython3",
   "version": "3.5.2"
  }
 },
 "nbformat": 4,
 "nbformat_minor": 0
}
