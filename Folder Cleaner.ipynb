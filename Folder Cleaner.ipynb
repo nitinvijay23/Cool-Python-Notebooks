{
 "cells": [
  {
   "cell_type": "markdown",
   "metadata": {},
   "source": [
    "# Clean Folder/Desktop\n",
    "\n",
    "This notebook will move all the files in a folder or desktop to a new folder created in the same path.\n"
   ]
  },
  {
   "cell_type": "code",
   "execution_count": 20,
   "metadata": {
    "collapsed": false
   },
   "outputs": [],
   "source": [
    "import os\n",
    "import shutil\n",
    "i=1\n",
    "\n",
    "# Specify the directoy of the folder you want to clean\n",
    "\n",
    "myfolder = 'C:\\\\Users\\\\NITIN\\\\Desktop'\n",
    "\n",
    "# Destination directory for the new folder\n",
    "\n",
    "destinationDir='C:\\\\Users\\\\NITIN\\\\Desktop'\n",
    "while os.path.exists(destinationDir):\n",
    "    destinationDir=destinationDir+str(i)\n",
    "    i+=1\n",
    "    \n",
    "# Create a destination directory\n",
    "os.makedirs(destinationDir)\n",
    "\n",
    "# Find all the files in a folder, skipping the directories\n",
    "files = [f for f in os.listdir(myfolder) if os.path.isfile(os.path.join(myfolder, f))]\n",
    "\n",
    "# Move all the files to the new directory\n",
    "for f in files:\n",
    "    shutil.move(os.path.join(myfolder, f), destinationDir)"
   ]
  },
  {
   "cell_type": "code",
   "execution_count": null,
   "metadata": {
    "collapsed": true
   },
   "outputs": [],
   "source": []
  }
 ],
 "metadata": {
  "kernelspec": {
   "display_name": "Python [Root]",
   "language": "python",
   "name": "Python [Root]"
  },
  "language_info": {
   "codemirror_mode": {
    "name": "ipython",
    "version": 3
   },
   "file_extension": ".py",
   "mimetype": "text/x-python",
   "name": "python",
   "nbconvert_exporter": "python",
   "pygments_lexer": "ipython3",
   "version": "3.5.2"
  }
 },
 "nbformat": 4,
 "nbformat_minor": 0
}
